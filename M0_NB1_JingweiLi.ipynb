{
 "cells": [
  {
   "cell_type": "markdown",
   "metadata": {},
   "source": [
    "# Getting Started with Anaconda: Jupyter and Python"
   ]
  },
  {
   "cell_type": "markdown",
   "metadata": {},
   "source": [
    "**Learning outcome:**\n",
    "\n",
    "> LO6: Demonstrate the ability to access and navigate your virtual analysis environment."
   ]
  },
  {
   "cell_type": "markdown",
   "metadata": {},
   "source": [
    "## 1. Introduction"
   ]
  },
  {
   "cell_type": "markdown",
   "metadata": {},
   "source": [
    "In this workbook you will be exposed to working with notebooks.\n",
    "\n",
    "This notebook will be provided preloaded to your notebook server so you can continue working there as soon as you have connected to the environment. It will also be provided as a PDF in order to guide you to access the server and navigate to the notebook."
   ]
  },
  {
   "cell_type": "markdown",
   "metadata": {},
   "source": [
    "## 2. What is a notebook?"
   ]
  },
  {
   "cell_type": "markdown",
   "metadata": {},
   "source": [
    "Jupyter notebooks are essentially documents that are designed to be easily read by both humans and computers. The elements of a typical notebook include descriptions and analysis, as well as executable code. You can share your code with others and communicate your process and results with a wide array of audiences, from technical to non-technical.\n",
    "\n",
    "A good way to try Jupyter before installing is to use https://try.jupyter.org/\n",
    "\n",
    "Select the 'Welcome to Python.ipynb' notebook. To run the notebook first selecting the cell and then run it via the 'shift + enter' command. Alternatively you may use the arrow button.\n",
    "\n",
    "For more information refer to the below link:\n",
    "\n",
    "http://jupyter.readthedocs.io/en/latest/tryjupyter.html"
   ]
  },
  {
   "cell_type": "markdown",
   "metadata": {},
   "source": [
    "### 2.1 Running Jupyter\n",
    "To run a Jupyter notebook on a local installation (your laptop or desktop), you would typically go to your command line and enter 'jupyter notebook' to start up the notebook server. In this case you set up the notebook server in the cloud and you will have to navigate to your Amazon Web Services instance and enter your password to access the environment.\n",
    "\n",
    "The web address is the one avaiable at the end of the setup instructions and would have the form http://ec2.###.###.###.###.###.compute.amazonaws.com:8888 \n",
    "\n",
    "**Note:** Make sure that you use your link instead of the dummy link provided here\n",
    "\n",
    "Once you have connected to your server, select \"**module_0**\" and then click on \"**M0_NB1_GettingStarted.ipynb**\" to launch this notebook."
   ]
  },
  {
   "cell_type": "markdown",
   "metadata": {},
   "source": [
    "**Try this**\n",
    "\n",
    "When starting with a new programming language the first example usually starts with outputting the text 'hello world'"
   ]
  },
  {
   "cell_type": "code",
   "execution_count": 2,
   "metadata": {
    "collapsed": false
   },
   "outputs": [
    {
     "name": "stdout",
     "output_type": "stream",
     "text": [
      "Hi! This is a cell. Press the ▶ button above to run it\n"
     ]
    }
   ],
   "source": [
    "import pandas as pd\n",
    "\n",
    "print \"Hi! This is a cell. Press the ▶ button above to run it\""
   ]
  },
  {
   "cell_type": "code",
   "execution_count": 3,
   "metadata": {
    "collapsed": false
   },
   "outputs": [
    {
     "name": "stdout",
     "output_type": "stream",
     "text": [
      "hello SOCIAL ANALYTICS world\n"
     ]
    }
   ],
   "source": [
    "# You can change the text below to display a custom message or just execute as is\n",
    "# An output will be added and you can submit your notebook after completing this document\n",
    "\n",
    "print('hello SOCIAL ANALYTICS world')"
   ]
  },
  {
   "cell_type": "markdown",
   "metadata": {},
   "source": [
    "### 2.2 Exercise 1:\n",
    "\n",
    "In order to be able to easily complete the question below, work through [A quick tour of IPython Notebook](http://nbviewer.jupyter.org/github/jvns/pandas-cookbook/blob/v0.1/cookbook/A%20quick%20tour%20of%20IPython%20Notebook.ipynb)\n",
    "\n",
    "You can also download the notebook for later reference here [here](https://raw.githubusercontent.com/jvns/pandas-cookbook/v0.1/cookbook/A%20quick%20tour%20of%20IPython%20Notebook.ipynb)\n",
    "\n",
    "** Question: **\n",
    "1. Write a function to print the first 10 integers in the cell below.\n",
    "\n",
    "> Note: Advanced students or students with existing Python knowledge can perform the task as well as include additional options such as using existing libraries such as Numpy to achieve similar results.\n",
    "\n",
    "\n",
    "Remember that it is good coding practice to comment your code. This makes it easier for others to interpret, but can also help you to understand your own intentions and processes when revisiting notebooks at a later stage. Comments can be added by starting the line with the # symbol."
   ]
  },
  {
   "cell_type": "code",
   "execution_count": 4,
   "metadata": {
    "collapsed": false
   },
   "outputs": [
    {
     "name": "stdout",
     "output_type": "stream",
     "text": [
      "0 1 2 3 4 5 6 7 8 9\n"
     ]
    }
   ],
   "source": [
    "# Use this cell to write your comments and complete the exercise\n",
    "\n",
    "# create function to print the first 10 integers\n",
    "\n",
    "def print_10_numbers():\n",
    "    for i in range(10):\n",
    "        print i,\n",
    "\n",
    "\n",
    "# print integers\n",
    "\n",
    "print_10_numbers()\n",
    "\n",
    "\n"
   ]
  },
  {
   "cell_type": "code",
   "execution_count": null,
   "metadata": {
    "collapsed": false
   },
   "outputs": [],
   "source": [
    "# Advanced students can include additional options to output the same result set here\n",
    "\n",
    "\n",
    "\n",
    "\n",
    "\n"
   ]
  },
  {
   "cell_type": "markdown",
   "metadata": {},
   "source": [
    "### 2.3 Submission of Notebooks\n",
    "1. Make sure that you rename the file by clicking on the notebook name at the top \"M0_NB1_GettingStarted\" and change this to \"M0\\_NB1\\_**YourName**\". \n",
    "\n",
    "2. On the menu at the top left, you can select \"**File**\", then \"**Save and Checkpoint**\"\n",
    "\n",
    "3. Last step is to save a copy of the changed file to your own laptop or desktop. This needs to be submitted and also serves as a backup of your files should any of the content on the virtual machine be refreshed. Select \"**File**\", \"**Download as**\" and then select \"**IPython Notebook (.ipynb)**\" from the menu that appears.\n",
    "\n",
    "** Make sure that you keep a safe copy of all the notebooks where you apply changes **"
   ]
  },
  {
   "cell_type": "markdown",
   "metadata": {
    "collapsed": false
   },
   "source": [
    "<br><br><br>That concludes the welcome notebook. Please take your time and explore the resources above if you are not already familiar with Jupyter, Anaconda and Python as this will make your experience in subsequent modules much more enjoyable.\n",
    "\n"
   ]
  },
  {
   "cell_type": "markdown",
   "metadata": {
    "collapsed": false
   },
   "source": [
    "** Welcome to the world of interactive computing :-) **"
   ]
  }
 ],
 "metadata": {
  "anaconda-cloud": {},
  "kernelspec": {
   "display_name": "Python 2",
   "language": "python",
   "name": "python2"
  },
  "language_info": {
   "codemirror_mode": {
    "name": "ipython",
    "version": 2
   },
   "file_extension": ".py",
   "mimetype": "text/x-python",
   "name": "python",
   "nbconvert_exporter": "python",
   "pygments_lexer": "ipython2",
   "version": "2.7.12"
  }
 },
 "nbformat": 4,
 "nbformat_minor": 0
}
