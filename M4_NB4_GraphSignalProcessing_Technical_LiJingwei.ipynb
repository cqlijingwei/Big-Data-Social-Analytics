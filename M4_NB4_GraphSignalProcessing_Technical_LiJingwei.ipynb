{
 "cells": [
  {
   "cell_type": "markdown",
   "metadata": {},
   "source": [
    "<div align=\"right\">Python 2.7 Jupyter Notebook</div>\n",
    "\n",
    "# Graph Signal Processing\n",
    "\n",
    "<br><div class=\"alert alert-warning\">\n",
    "<b>Note that this notebook contains advanced exercises applicable only to students who wish to deepen their understanding and qualify for bonus marks as part of the technical track.</b> You will be able to achieve 100% without completing this notebook. Optional advanced exercises can be completed to qualify for bonus marks.\n",
    "</div>\n",
    "\n",
    "### Your completion of the Notebook exercises will be graded based on your ability to:\n",
    "\n",
    "> **Evaluate**: Are you able to interpret the results and justify your interpretation based on the observed data?"
   ]
  },
  {
   "cell_type": "markdown",
   "metadata": {},
   "source": [
    "<br>\n",
    "<div class=\"alert alert-warning\">\n",
    "<b>Note</b>:<br>\n",
    "We provide the code required to execute the content of this notebook. Due to the time required to install and the strain on the virtual analysis environment, we have included the output as static images and you should <b>not</b> attempt to execute the code cells.\n",
    "</div>"
   ]
  },
  {
   "cell_type": "markdown",
   "metadata": {},
   "source": [
    "# Notebook introduction"
   ]
  },
  {
   "cell_type": "markdown",
   "metadata": {},
   "source": [
    "The video lectures highlighted the importance of understanding graphs as data representation objects that can capture and describe relationships between data entities. Applications of graphs extend across numerous network types including transportation, geographical, and social networks. The weight associated with each edge in the graph often represents the similarity between the two vertices it connects, or the strength of such a relationship. The earlier notebooks demonstrated how to explore and exploit edge structure (connectedness) properties in order to understand the structure of the graphs. You were then able to use this knowledge in clustering and the identification of communities in graphs using graph partitioning algorithms. The data on these graphs can be visualized as a finite collection of samples, with one sample at each vertex in the graph, and each such sample described by a scalar value. The collection of these scalar samples defined on each vertex of a graph is referred to as a graph signal. The [figure](https://arxiv.org/pdf/1211.0053v2.pdf) below shows an example of a graph signal, where each bar represents a random positive value generated on the vertices of a Petersen graph (Shuman et al. 2013).\n",
    "\n",
    "![Petersen graph signal](img/petersen_graph_signal.png \"Petersen graph signal.\")\n",
    "\n",
    "Graph signal processing can be considered a generalization of the classical signal processing framework in the graph spectral domain. As discussed in the videos, just as the frequency-based domain representation of a signal decomposes a signal into harmonics of varying frequencies, graph signal processing demonstrates how fast a graph signal changes with respect to graph topology. For example, this can be used in, say, tracking the shifts of personal preferences between friends in a social network. \n",
    "\n",
    "In graph signal processing, the graph Laplacian matrix is the core operator. The spectral decomposition of this matrix provides eigenvectors that correspond to bases similarly to sinusoidal functions in classical frequency analysis. Similarly to applications of Fourier transforms, graph-based signal processing can be used in compression, denoising, interpolation, and many other applications. \n",
    "\n",
    "#### Applications of graph signal processing include:\n",
    "- **Sensor networks:** This is in terms of the relative positions of sensors (kNN), and temperature. Does temperature vary smoothly?\n",
    "- **Social network analysis:** This analysis can be done on aspects such as friendship, relationship, and age. Are friends of similar age?\n",
    "- **Image processing:** This is in terms of pixel positions and similarity, pixel values, discontinuities and smoothness.\n",
    "- **Mobility inference:** This inference can enable an understanding of people’s behaviors, while simultaneously protecting their privacy.\n",
    "\n",
    "Next, this notebook will demonstrate certain simple filtering applications based on graph signal processing. To complete this task, you will make use of [pygsp](http://pygsp.readthedocs.io/en/latest/), the graph signal processing python library. The libraries utilized in this module is have not been installed.  Do not attempt to execute these steps. Simply review this notebook and complete the theory-based questions only.\n",
    "\n",
    "> **Note**:\n",
    "\n",
    "> - Please do not execute the code cells in this document. It is contained for the use of advanced students outside the scope of this course only."
   ]
  },
  {
   "cell_type": "markdown",
   "metadata": {},
   "source": [
    "# 1. Graph signal processing \n",
    "## 1.1 Generic examples\n",
    "#### Load libraries"
   ]
  },
  {
   "cell_type": "code",
   "execution_count": 1,
   "metadata": {
    "collapsed": true
   },
   "outputs": [],
   "source": [
    "#%matplotlib inline\n",
    "#import matplotlib\n",
    "#import pygsp \n",
    "#import numpy as np\n",
    "#import matplotlib.pylab as plt\n",
    "#import networkx as nx\n",
    "#import pandas as pd\n",
    "\n",
    "#plt.rcParams['figure.figsize'] = (10, 8)"
   ]
  },
  {
   "cell_type": "markdown",
   "metadata": {},
   "source": [
    "First, simple filtering on a nosy graph signal will be demonstrated. This is based on an example in an article by Nathanael Perraudin et al. (2016) titled “GSPBOX: A toolbox for signal processing on graphs”, which can be found [here](http://arxiv.org/pdf/1408.5781.pdf)."
   ]
  },
  {
   "cell_type": "code",
   "execution_count": 2,
   "metadata": {
    "collapsed": true
   },
   "outputs": [],
   "source": [
    "## Create a graph.\n",
    "#N = 100 # number of nodes.\n",
    "#G = pygsp.graphs.Sensor(N)"
   ]
  },
  {
   "cell_type": "code",
   "execution_count": 3,
   "metadata": {
    "collapsed": false
   },
   "outputs": [],
   "source": [
    "#pygsp.plotting.plot_graph(G, default_qtg = False)"
   ]
  },
  {
   "cell_type": "markdown",
   "metadata": {},
   "source": [
    "![Default pygsp plot.](img/02_pygsp_default.png \"Default pygsp plot.\")"
   ]
  },
  {
   "cell_type": "code",
   "execution_count": 4,
   "metadata": {
    "collapsed": false
   },
   "outputs": [],
   "source": [
    "## Compute the Fourier basis.\n",
    "#G.compute_fourier_basis()\n",
    "\n",
    "## Create a smooth signal with noise.\n",
    "## The second Eigenvector of the Laplacian matrix, often called the Fiedler vector, can be considered as a smooth graph signal.\n",
    "#x = G.U[:, 1]\n",
    "\n",
    "#y = x + np.random.normal(scale=1/np.sqrt(N), size=N)"
   ]
  },
  {
   "cell_type": "code",
   "execution_count": 5,
   "metadata": {
    "collapsed": false
   },
   "outputs": [],
   "source": [
    "## Select a filter.\n",
    "#filter = pygsp.filters.Expwin(G, 0.1)"
   ]
  },
  {
   "cell_type": "code",
   "execution_count": 6,
   "metadata": {
    "collapsed": false
   },
   "outputs": [],
   "source": [
    "## Filter the noise.\n",
    "#s = filter.analysis(y)"
   ]
  },
  {
   "cell_type": "code",
   "execution_count": 7,
   "metadata": {
    "collapsed": false
   },
   "outputs": [],
   "source": [
    "## Display the original signal.\n",
    "#G.plot_signal(x, default_qtg=False)"
   ]
  },
  {
   "cell_type": "markdown",
   "metadata": {},
   "source": [
    "![Original signal.](img/03_original signal.png \"Original signal.\")"
   ]
  },
  {
   "cell_type": "code",
   "execution_count": 8,
   "metadata": {
    "collapsed": false,
    "scrolled": false
   },
   "outputs": [],
   "source": [
    "## Display the noisy signal.\n",
    "#G.plot_signal(y, default_qtg=False)"
   ]
  },
  {
   "cell_type": "markdown",
   "metadata": {},
   "source": [
    "![Noisy signal.](img/04_noisy_signal.png \"Noisy signal.\")"
   ]
  },
  {
   "cell_type": "code",
   "execution_count": 9,
   "metadata": {
    "collapsed": false
   },
   "outputs": [],
   "source": [
    "## Display the filtered signal.\n",
    "#G.plot_signal(s, default_qtg=False)"
   ]
  },
  {
   "cell_type": "markdown",
   "metadata": {},
   "source": [
    "![Filtered signal.](img/05_filtered_signal.png \"Filtered signal.\")"
   ]
  },
  {
   "cell_type": "markdown",
   "metadata": {},
   "source": [
    "<br>\n",
    "<div class=\"alert alert-info\">\n",
    "<b>Exercise 1 [Advanced exercise for bonus marks] Start.</b>\n",
    "</div>\n",
    "\n",
    "### Instructions\n",
    "\n",
    "> What is the effect of applying a filter operation to the noisy signal?\n",
    "\n",
    "> Type your answer below, and change the cell to markdown.\n",
    "\n",
    "> **Note:**\n",
    "\n",
    "> This activity is for advanced students only, and extra credit will be allocated to those who successfully complete it."
   ]
  },
  {
   "cell_type": "markdown",
   "metadata": {},
   "source": [
    "Mitigate the impact of the noisy signal. Let the data be more accurate and easier to analyse."
   ]
  },
  {
   "cell_type": "markdown",
   "metadata": {
    "collapsed": true
   },
   "source": [
    "<br>\n",
    "<div class=\"alert alert-info\">\n",
    "<b>Exercise 1 End.</b>\n",
    "</div>\n",
    "> **Exercise complete:**\n",
    "    \n",
    "> This is a good time to \"Save and Checkpoint\"."
   ]
  },
  {
   "cell_type": "markdown",
   "metadata": {},
   "source": [
    "## 1.2 Using PyGSP on NetworkX graphs"
   ]
  },
  {
   "cell_type": "markdown",
   "metadata": {},
   "source": [
    "Using PyGSP and NetworkX on the call adjacency matrices you saved from an earlier exercise requires some modifications to a few aspects. In particular, pygsp requires a weighted graph matrix to instantiate the graph. You will also need to save the node positioning, as this is required in pygsp. These two modifications will be executed in the next two cells. It is not necessary that you know the exact details of this process."
   ]
  },
  {
   "cell_type": "code",
   "execution_count": 10,
   "metadata": {
    "collapsed": false
   },
   "outputs": [],
   "source": [
    "## Recreate the call adjacency matrix and return the weights in the matrix.\n",
    "#calls = pd.read_csv('../data/CallLog.csv')\n",
    "#calls = calls.dropna(subset = ['participantID.A', 'participantID.B'])\n",
    "#interactions = calls[['participantID.A', 'participantID.B']]\n",
    "#row_with_different_participants = interactions['participantID.A'] != interactions['participantID.B']\n",
    "#interactions = interactions[row_with_different_participants]\n",
    "#grp_interactions = pd.DataFrame(interactions.groupby(['participantID.A', 'participantID.B']).size(), \n",
    "#                                columns=['counts']).reset_index()\n",
    "## First create a directed graph with an edge_attr labeled counts.\n",
    "#g = nx.from_pandas_dataframe(grp_interactions, \n",
    "#                             source='participantID.A', \n",
    "#                             target='participantID.B', \n",
    "#                             edge_attr='counts', \n",
    "#                             create_using=nx.DiGraph())\n",
    "\n",
    "## Instantiate a weighted undirected graph and populate edges list from the directed graph. \n",
    "## Set all the weights to 0 at this stage. We will add the correct weight information in the next step.\n",
    "#G = nx.Graph()\n",
    "#G.add_edges_from(g.edges_iter(), counts=0)\n",
    "\n",
    "# Now iterate through each link from directed link, adding the attr weight (counts) to the corresponding \n",
    "# link in the undirected graph.\n",
    "#for u, v, d in g.edges_iter(data=True):\n",
    "#    G[u][v]['counts'] += d['counts']\n",
    "    \n",
    "#nodes = G.nodes()\n",
    "#call_adjmatrix = nx.adjacency_matrix(G,weight='counts')\n",
    "#call_adjmatrix= pd.DataFrame(call_adjmatrix.toarray(), columns=nodes, index=nodes) "
   ]
  },
  {
   "cell_type": "markdown",
   "metadata": {},
   "source": [
    "You can create a pygsp graph object with the following call:"
   ]
  },
  {
   "cell_type": "code",
   "execution_count": 11,
   "metadata": {
    "collapsed": true
   },
   "outputs": [],
   "source": [
    "#G = pygsp.graphs.Graph(call_adjmatrix.as_matrix())"
   ]
  },
  {
   "cell_type": "code",
   "execution_count": 12,
   "metadata": {
    "collapsed": false
   },
   "outputs": [],
   "source": [
    "## Set the node positioning for a spring layout in pygsp.\n",
    "#G.set_coords(kind='spring')"
   ]
  },
  {
   "cell_type": "code",
   "execution_count": 13,
   "metadata": {
    "collapsed": false
   },
   "outputs": [],
   "source": [
    "#pygsp.plotting.plot_graph(G, default_qtg=False)"
   ]
  },
  {
   "cell_type": "markdown",
   "metadata": {},
   "source": [
    "![Calls - pygsp plot.](img/06_Calls_pygsp.png \"Calls - pygsp plot.\")"
   ]
  },
  {
   "cell_type": "code",
   "execution_count": 14,
   "metadata": {
    "collapsed": true
   },
   "outputs": [],
   "source": [
    "#G.compute_fourier_basis()"
   ]
  },
  {
   "cell_type": "markdown",
   "metadata": {},
   "source": [
    "Visualize spectral decomposition (various Eigenvectors) of the Laplacian matrix associated with the call graph."
   ]
  },
  {
   "cell_type": "code",
   "execution_count": 15,
   "metadata": {
    "collapsed": false,
    "scrolled": false
   },
   "outputs": [],
   "source": [
    "#G.plot_signal(G.U[:,1], default_qtg=False)"
   ]
  },
  {
   "cell_type": "markdown",
   "metadata": {},
   "source": [
    "![Calls - Spectral decomposition.](img/07_calls_spectral_decomposition_1.png \"Calls - Spectral decomposition - Eigenvector 1.\")"
   ]
  },
  {
   "cell_type": "code",
   "execution_count": 16,
   "metadata": {
    "collapsed": false
   },
   "outputs": [],
   "source": [
    "#G.plot_signal(G.U[:,5], default_qtg=False)"
   ]
  },
  {
   "cell_type": "markdown",
   "metadata": {},
   "source": [
    "![Calls - Spectral decomposition.](img/08_calls_spectral_decomposition_5.png \"Calls - Spectral decomposition - Eigenvector 5.\")"
   ]
  },
  {
   "cell_type": "code",
   "execution_count": 17,
   "metadata": {
    "collapsed": false
   },
   "outputs": [],
   "source": [
    "#G.plot_signal(G.U[:,20], default_qtg=False)"
   ]
  },
  {
   "cell_type": "markdown",
   "metadata": {},
   "source": [
    "![Calls - Spectral decomposition.](img/09_calls_spectral_decomposition_20.png \"Calls - Spectral decomposition - Eigenvector 20.\")"
   ]
  },
  {
   "cell_type": "code",
   "execution_count": 18,
   "metadata": {
    "collapsed": false
   },
   "outputs": [],
   "source": [
    "#G.plot_signal(G.U[:,50], default_qtg=False)"
   ]
  },
  {
   "cell_type": "markdown",
   "metadata": {},
   "source": [
    "![Calls - Spectral decomposition.](img/10_calls_spectral_decomposition_50.png \"Calls - Spectral decomposition - Eigenvector 50.\")"
   ]
  },
  {
   "cell_type": "code",
   "execution_count": 19,
   "metadata": {
    "collapsed": false
   },
   "outputs": [],
   "source": [
    "#G.plot_signal(G.U[:,80], default_qtg=False)"
   ]
  },
  {
   "cell_type": "markdown",
   "metadata": {},
   "source": [
    "![Calls - Spectral decomposition.](img/11_calls_spectral_decomposition_80.png \"Calls - Spectral decomposition - Eigenvector 80.\")"
   ]
  },
  {
   "cell_type": "markdown",
   "metadata": {},
   "source": [
    "<br>\n",
    "<div class=\"alert alert-info\">\n",
    "<b>Exercise 2 [Advanced exercise for bonus marks] Start.</b>\n",
    "</div>\n",
    "\n",
    "### Instructions\n",
    "\n",
    "> What do you observe as you move across the various Eigenvectors of the Laplacian matrix?\n",
    "\n",
    "> **Hint**:\n",
    "\n",
    "> The color spectrum ranges from blood red color indicating high values  to dark blue indicating low values.\n",
    "\n",
    "> **Note**:\n",
    "\n",
    "> This activity is for advanced students only, and extra credit will be allocated to those who successfully complete it."
   ]
  },
  {
   "cell_type": "markdown",
   "metadata": {
    "collapsed": true
   },
   "source": [
    "The vertices near the central region are likely to have high values while the vertices on the edge generally have low values."
   ]
  },
  {
   "cell_type": "markdown",
   "metadata": {},
   "source": [
    "<br>\n",
    "<div class=\"alert alert-info\">\n",
    "<b>Exercise 2 End.</b>\n",
    "</div>\n",
    "> **Exercise complete**:\n",
    "    \n",
    "> This is a good time to \"Save and Checkpoint\"."
   ]
  },
  {
   "cell_type": "markdown",
   "metadata": {},
   "source": [
    "## 2. Submit your notebook\n",
    "\n",
    "Please make sure that you:\n",
    "- Perform a final \"Save and Checkpoint\";\n",
    "- Download a copy of the notebook in \".ipynb\" format to your local machine using \"File\", \"Download as\", and \"IPython Notebook (.ipynb)\"; and\n",
    "- Submit a copy of this file to the online campus."
   ]
  },
  {
   "cell_type": "markdown",
   "metadata": {
    "collapsed": true
   },
   "source": [
    "## 3. Notes on environment preparation\n",
    "\n",
    "You should not attempt these steps while the course is in progress as you will likely cause your virtual analysis environment to become unstable."
   ]
  },
  {
   "cell_type": "code",
   "execution_count": 20,
   "metadata": {
    "collapsed": true
   },
   "outputs": [],
   "source": [
    "## 1. Environment preparation\n",
    "## Before you begin, you need to install some required dependencies on the AWS instance.\n",
    "\n",
    "## Important: Installing the required dependencies on your AWS instance may take around **20-30 minutes**. \n",
    "## Please do not attempt this on your virtual analysis environment while the course is in progress.\n",
    "\n",
    "## Install additional libraries for similar Ubuntu server based environment.\n",
    "#!sudo apt-get -y install cmake\n",
    "#!sudo apt-get -y install libgl1-mesa-dev libglu1-mesa-dev\n",
    "#!sudo pip install pyside # May take anything from 5 to 20 minutes.\n",
    "\n",
    "## Temporarily enable swap (required as scipy installation needs more memory than the default provisioned).\n",
    "## These steps are only required on environments similar to your virtual analysis environment.\n",
    "#!sudo /bin/dd if=/dev/zero of=/var/swap.1 bs=1M count=1024\n",
    "#!sudo /sbin/mkswap /var/swap.1\n",
    "#!sudo /sbin/swapon /var/swap.1\n",
    "\n",
    "## Install pygsp\n",
    "#!sudo pip install pygsp\n",
    "\n",
    "##  Turn temporary swap.\n",
    "#!sudo swapoff /var/swap.1\n",
    "#!sudo rm /var/swap.1"
   ]
  },
  {
   "cell_type": "markdown",
   "metadata": {},
   "source": [
    "## 4. References\n",
    "\n",
    "1. Perraudin, Nathanael, Johan Paratte, David Shuman, Lionel Martin, Vassilis Kalofolias, Pierre Vandergheynst, and David K. Hammond. 2016. “GSPBOX: A tool for signal processing on graphs.” arXiv:1408.5781v2.\n",
    "\n",
    "2. Shuman, David I., Sunil K. Narang, Pascal Frossard, Antonio Ortega, and Pierre Vandergheynst. 2013. “The Emerging Field of Signal Processing on Graphs: Extending High-Dimensional Data Analysis to Networks and Other Irregular Domains.” arXiv: arXiv:1211.0053v2. DOI:10.1109/MSP.2012.2235192."
   ]
  },
  {
   "cell_type": "code",
   "execution_count": null,
   "metadata": {
    "collapsed": true
   },
   "outputs": [],
   "source": []
  }
 ],
 "metadata": {
  "kernelspec": {
   "display_name": "Python 2",
   "language": "python",
   "name": "python2"
  },
  "language_info": {
   "codemirror_mode": {
    "name": "ipython",
    "version": 2
   },
   "file_extension": ".py",
   "mimetype": "text/x-python",
   "name": "python",
   "nbconvert_exporter": "python",
   "pygments_lexer": "ipython2",
   "version": "2.7.12"
  }
 },
 "nbformat": 4,
 "nbformat_minor": 0
}
