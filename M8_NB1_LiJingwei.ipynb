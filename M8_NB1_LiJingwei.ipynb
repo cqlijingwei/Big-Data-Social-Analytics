{
 "cells": [
  {
   "cell_type": "markdown",
   "metadata": {},
   "source": [
    "<div align=\"right\">Python 2.7 Jupyter Notebook</div>\n",
    "\n",
    "# Social analytics blueprint\n",
    "<br>\n",
    "<div class=\"alert alert-warning\">\n",
    "<b>Note that this notebook contains advanced exercises applicable only to students who wish to deepen their understanding and qualify for bonus marks as part of the technical track.</b> You will be able to achieve 100% for this notebook by only completing exercise 1. Optional exercise 2 can be completed to qualify for bonus marks.\n",
    "</div>\n",
    "\n",
    "### Your completion of the notebook exercises will be graded based on your ability to:\n",
    "\n",
    "> **Understand**: Do your comments show evidence that you recall and understand technical concepts?"
   ]
  },
  {
   "cell_type": "markdown",
   "metadata": {},
   "source": [
    "This notebook is intended to serve as a blueprint that you can use in your future endeavors. You are expected to provide a high-level blueprint of a potential study, because an in-depth blueprint is beyond the scope of the course. The activity will not be graded in detail, therefore one or two sentences for each of the sections is sufficient.\n",
    "\n",
    "> **Note**: Providing the marker with some information regarding your interests, experience, and background will allow for more personalized feedback in the grading. However, this is optional and does not need to be provided.\n",
    "\n",
    "The outline below is provided in an attempt to structure your thoughts. Keep in mind that typical studies, whether in academic or in commercial applications, typically do not follow a straight path. As a result of this, the output is typically produced after many iterations, deviations, and potential changes in course. Living labs are longitudinal and adaptive by nature. In science, researchers uncover insights that may be different from what they originally anticipated, and in business individuals may uncover new and unexpected business and improvement opportunities. You need to ensure that you spend enough time in the exploration phase of real-life projects, while ensuring that you deliver actionable results in the required timeframes. A good approach is to start with a minimum viable product and add features to this product as your project matures."
   ]
  },
  {
   "cell_type": "markdown",
   "metadata": {},
   "source": [
    "<div class=\"alert alert-info\">\n",
    "<b>Exercise 1 Start.</b>\n",
    "</div>\n",
    "\n",
    "### Instructions\n",
    "\n",
    "> Based on the content provided in M6_NB1 (project overview) and M7_NB1 (study overview), create a blueprint for your own topic of interest. Provide a short introductory paragraph stating your choice of industry and topic, and then one or two sentences describing your plan or expectations for each of the sections listed below.\n",
    "\n",
    "> **Note**: You can refer to the image of the scientific method, in notebook 1 of Module 7, as a refresher or the typical workflow observed."
   ]
  },
  {
   "cell_type": "markdown",
   "metadata": {},
   "source": [
    "I think about cultural education industry and the topic is diversity culture education. Local cultural organisations help count the percentage of people from different cultures in that region, and local universities help analyse and elaborate the distribution condition, and data analyst help decide what culture education should be improved and all the local people would benefit from this change. Survey, analyse and make strategies using data analyse technology with distribution data then the conclusion is drawn."
   ]
  },
  {
   "cell_type": "markdown",
   "metadata": {
    "collapsed": true
   },
   "source": [
    "#### 1. Make observations \n",
    "Typically, this follows the research and context phase of the project plan. List the observations that you would like to study in your project."
   ]
  },
  {
   "cell_type": "markdown",
   "metadata": {},
   "source": [
    "The observations are \n",
    "1. the distribution of the nations in the region\n",
    "2. the distribution of the langauges spoken in the region\n",
    "3. the willingness of people learning some other cultures"
   ]
  },
  {
   "cell_type": "markdown",
   "metadata": {
    "collapsed": true
   },
   "source": [
    "####  2. Think of interesting questions\n",
    "List a few of the potential questions that you would like to answer in your project."
   ]
  },
  {
   "cell_type": "markdown",
   "metadata": {},
   "source": [
    "1. What culture would be most welcomed in each region investigated?\n",
    "2. Would the learning of some cultures help promote cultural diversity and nation merge?\n",
    "3. Would some educational organizations be beneficial in this process?"
   ]
  },
  {
   "cell_type": "markdown",
   "metadata": {},
   "source": [
    "####  3. Formulate a hypothesis\n",
    "State one or two hypotheses related to the questions listed in the previous answer."
   ]
  },
  {
   "cell_type": "markdown",
   "metadata": {},
   "source": [
    "1.Some cultures like Chinese culture in western countries, British and American cultures in Asian countries would be really welcomed and popular.\n",
    "\n",
    "\n",
    "2.The learning of some cultures would definitely help promote cultural diversity and nation merge."
   ]
  },
  {
   "cell_type": "markdown",
   "metadata": {},
   "source": [
    "####  4. Develop testable predictions\n",
    "Briefly describe how you would develop testable predictions."
   ]
  },
  {
   "cell_type": "markdown",
   "metadata": {},
   "source": [
    "Let some local cultural organisations to do the survey and get the results. Then ask some local universities professors to analyse the situation of culture diversity distribution. Finally make some strategies to improve the cultural education based on data from the survey so that the predictions would be as effective as possible."
   ]
  },
  {
   "cell_type": "markdown",
   "metadata": {},
   "source": [
    "####  5. Gather data to test predictions and execute the analysis phase\n",
    "You do not need to complete the execution aspect of this phase. Simply provide one or two observations on where you expect to source the required data, and execute the planned analysis."
   ]
  },
  {
   "cell_type": "markdown",
   "metadata": {},
   "source": [
    "The local people are willing to learn some specific culture but before they are not familiar with the culture."
   ]
  },
  {
   "cell_type": "markdown",
   "metadata": {},
   "source": [
    "Once step 5 is complete you will likely have to:\n",
    "\n",
    "####  6. Refine, alter, expand or reject your hypothesis\n",
    "Can you think of additional uses for (or other parties interested in) the data in your hypothetical use case? List them below."
   ]
  },
  {
   "cell_type": "markdown",
   "metadata": {},
   "source": [
    "1.International culture organisations.\n",
    "\n",
    "2.Global cultural exchange programs.\n",
    "\n",
    "3.Some governments wishing to improve the local education level."
   ]
  },
  {
   "cell_type": "markdown",
   "metadata": {},
   "source": [
    "After you have completed this phase, you will need to repeat phases four and five of the scientific method. Alternatively, if you do not find a need to refine, alter, expand or reject your hypothesis, you can proceed to the final phase, which is to:\n",
    "\n",
    "####  7. Develop general theories\n",
    "Assuming that your analysis was successful and that you were able to develop a general theory to better understand a specific topic: what changes would you propose in order to benefit from the insights gained?"
   ]
  },
  {
   "cell_type": "markdown",
   "metadata": {},
   "source": [
    "Adjust the education strategies so that local people could benefit a lot from the new education policy."
   ]
  },
  {
   "cell_type": "markdown",
   "metadata": {},
   "source": [
    "<br>\n",
    "<div class=\"alert alert-info\">\n",
    "<b>Exercise 1 End.</b>\n",
    "</div>\n",
    "\n",
    "> **Exercise complete**:\n",
    "    \n",
    "> This is a good time to \"Save and Checkpoint\"."
   ]
  },
  {
   "cell_type": "markdown",
   "metadata": {},
   "source": [
    "<div class=\"alert alert-info\">\n",
    "<b>Exercise 2 [TECHNICAL TRACK ONLY] Start.</b>\n",
    "</div>\n",
    "\n",
    "### Instructions\n",
    "Many of the concepts that you are required to perform in order to execute a project (from beginning to end) do not form part of the core focus of this course. This exercise is marked as advanced and completing it will allow you to qualify for extra credit.\n",
    "\n",
    "> Based on your experience, can you provide an overview of the typical resources required to execute the project you outlined in Exercise 1?\n",
    "\n",
    "> a) Provide a brief overview of the people, process, and technological aspects that you will need to address in order to exploit the value contained in the data set that you have identified.\n",
    "\n",
    "> b) Refer to the list of typical activities in M6_NB1, where Phase 1 is covered to a large extent by Exercise 1. Provide a short description of the Phase 0 activities that you would have to address to motivate for, and initiate the project in your environment (academic or commercial). Include one or two sentences on how you would plan for the project to be terminated."
   ]
  },
  {
   "cell_type": "markdown",
   "metadata": {},
   "source": [
    "a) People: Stakeholders and decision makers are the local cultural organisations and educational institutions. Analytic professionals are the cultural experts in local universities. Infrastructure specialists are the specialized data analyst.\n",
    "\n",
    "Process: Do some surveys and get the results. Let the experts study the results and finally ask some data analyst to get the optimal strategy. The survey and study process is repeatable.\n",
    "\n",
    "Technological aspects are to analyse the possibility of changing education in different ways and decide which way is the best to reach our expectation.\n",
    "\n",
    "b) Acedemically, the process would help improve the education quality of the region because people are willing to learn the things. Commercially, cultural exchange programs and education institutions could benefit a lot from this process."
   ]
  },
  {
   "cell_type": "markdown",
   "metadata": {
    "collapsed": true
   },
   "source": [
    "<br>\n",
    "<div class=\"alert alert-info\">\n",
    "<b>Exercise 2 End.</b>\n",
    "</div>\n",
    "\n",
    "> **Exercise complete**:\n",
    "    \n",
    "> This is a good time to \"Save and Checkpoint\".\n",
    "\n",
    "# 1. Submit your notebook\n",
    "\n",
    "Please make sure that you:\n",
    "- Perform a final \"Save and Checkpoint\";\n",
    "- Download a copy of the notebook in \".ipynb\" format to your local machine using \"File\", \"Download as\", and \"IPython Notebook (.ipynb)\"; and\n",
    "- Submit a copy of this file to the online campus.\n",
    "\n",
    "> **Note**:\n",
    "\n",
    "> A model answer will not be provided for this notebook."
   ]
  },
  {
   "cell_type": "code",
   "execution_count": null,
   "metadata": {
    "collapsed": true
   },
   "outputs": [],
   "source": []
  }
 ],
 "metadata": {
  "kernelspec": {
   "display_name": "Python 2",
   "language": "python",
   "name": "python2"
  },
  "language_info": {
   "codemirror_mode": {
    "name": "ipython",
    "version": 2
   },
   "file_extension": ".py",
   "mimetype": "text/x-python",
   "name": "python",
   "nbconvert_exporter": "python",
   "pygments_lexer": "ipython2",
   "version": "2.7.12"
  }
 },
 "nbformat": 4,
 "nbformat_minor": 0
}
